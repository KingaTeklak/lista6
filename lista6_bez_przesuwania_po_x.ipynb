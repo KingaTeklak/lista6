{
  "nbformat": 4,
  "nbformat_minor": 0,
  "metadata": {
    "colab": {
      "name": "Kopia notatnika Kopia notatnika lista6.ipynb",
      "provenance": [],
      "collapsed_sections": [],
      "include_colab_link": true
    },
    "kernelspec": {
      "name": "python3",
      "display_name": "Python 3"
    }
  },
  "cells": [
    {
      "cell_type": "markdown",
      "metadata": {
        "id": "view-in-github",
        "colab_type": "text"
      },
      "source": [
        "<a href=\"https://colab.research.google.com/github/KingaTeklak/lista6/blob/main/lista6_bez_przesuwania_po_x.ipynb\" target=\"_parent\"><img src=\"https://colab.research.google.com/assets/colab-badge.svg\" alt=\"Open In Colab\"/></a>"
      ]
    },
    {
      "cell_type": "markdown",
      "metadata": {
        "id": "A1JXIEVSnx-E"
      },
      "source": [
        ""
      ]
    },
    {
      "cell_type": "code",
      "metadata": {
        "id": "OJKDp5ZLi6L6"
      },
      "source": [
        "import math\r\n",
        "import matplotlib\r\n",
        "import random\r\n",
        "import matplotlib.pyplot as plt\r\n",
        "import matplotlib.patches as patches\r\n",
        "import copy\r\n"
      ],
      "execution_count": 1,
      "outputs": []
    },
    {
      "cell_type": "markdown",
      "metadata": {
        "id": "nbmN3a67hCow"
      },
      "source": [
        "# Zadanie 1\r\n",
        "Wymyśl sposób reprezentowania takich dysków przy pomocy jednego z\r\n",
        "wbudowanych typów danych w Pythonie"
      ]
    },
    {
      "cell_type": "code",
      "metadata": {
        "id": "AIrUbJq5Gt2F"
      },
      "source": [
        "N = 100"
      ],
      "execution_count": 2,
      "outputs": []
    },
    {
      "cell_type": "markdown",
      "metadata": {
        "id": "-LrmM4lgMO4_"
      },
      "source": [
        "co z dyskami, których środek jest w \"polu\" ale reszta nie, czy trzeba to precyzować dla dowolnego promienia, czy tylko dla r=0,5, czy wcale?"
      ]
    },
    {
      "cell_type": "code",
      "metadata": {
        "id": "LK7zPe-BhHIw"
      },
      "source": [
        "def generate_disks(n):\r\n",
        "  disks = []\r\n",
        "\r\n",
        "  for i in range(n):\r\n",
        "    x = round(random.uniform(-14.5, 14.6), 1)\r\n",
        "    y = round(random.uniform(-14.5, 14.6), 1)\r\n",
        "    r = round(random.uniform(0.5, 0.51), 1)\r\n",
        "\r\n",
        "    disks.append([x, y, r])\r\n",
        "\r\n",
        "  return disks\r\n"
      ],
      "execution_count": 72,
      "outputs": []
    },
    {
      "cell_type": "markdown",
      "metadata": {
        "id": "rTDJMidysCWT"
      },
      "source": [
        "Wygenerowanie dyski:"
      ]
    },
    {
      "cell_type": "code",
      "metadata": {
        "colab": {
          "base_uri": "https://localhost:8080/"
        },
        "id": "Yjd7BL8msNu5",
        "outputId": "932da406-4f04-43f3-91b3-9ed98b6a56f4"
      },
      "source": [
        "disks = generate_disks(N)\r\n",
        "disks.sort(key=lambda n: n[0])\r\n",
        "disks_copy = copy.deepcopy(disks)\r\n",
        "\r\n",
        "print(disks)\r\n",
        "print(disks_copy)"
      ],
      "execution_count": 73,
      "outputs": [
        {
          "output_type": "stream",
          "text": [
            "[[-14.2, -7.9, 0.5], [-14.1, -7.1, 0.5], [-13.6, -2.7, 0.5], [-13.3, -14.0, 0.5], [-13.2, 7.2, 0.5], [-13.1, -12.4, 0.5], [-11.2, -10.5, 0.5], [-11.0, -13.1, 0.5], [-11.0, 13.7, 0.5], [-10.5, -8.6, 0.5], [-10.4, 9.2, 0.5], [-9.0, -12.9, 0.5], [-8.7, -3.4, 0.5], [-8.5, -0.7, 0.5], [-8.0, 1.8, 0.5], [-7.9, -0.9, 0.5], [-7.8, 10.5, 0.5], [-7.7, -13.8, 0.5], [-7.7, -6.5, 0.5], [-7.7, 5.6, 0.5], [-7.6, -0.6, 0.5], [-7.3, 3.6, 0.5], [-7.0, -10.1, 0.5], [-6.8, 11.0, 0.5], [-6.8, -5.8, 0.5], [-6.6, 2.9, 0.5], [-6.1, 13.4, 0.5], [-5.7, -1.5, 0.5], [-5.7, -13.7, 0.5], [-5.6, -0.3, 0.5], [-5.4, 0.3, 0.5], [-5.3, 12.9, 0.5], [-5.3, -3.1, 0.5], [-5.0, 6.8, 0.5], [-3.6, -11.7, 0.5], [-3.4, -6.5, 0.5], [-3.3, 5.0, 0.5], [-3.0, 11.9, 0.5], [-3.0, -14.2, 0.5], [-2.3, 3.8, 0.5], [-2.2, 7.3, 0.5], [-2.2, 3.1, 0.5], [-1.9, 5.3, 0.5], [-1.9, -0.9, 0.5], [-1.7, 7.3, 0.5], [-1.0, -7.1, 0.5], [-0.8, -8.5, 0.5], [-0.7, 1.0, 0.5], [-0.2, -7.9, 0.5], [-0.0, 7.0, 0.5], [0.6, 6.2, 0.5], [0.7, 4.7, 0.5], [1.0, 6.0, 0.5], [1.4, 2.7, 0.5], [1.7, 10.7, 0.5], [2.1, -0.0, 0.5], [2.4, 1.7, 0.5], [2.5, -12.1, 0.5], [2.5, 2.7, 0.5], [3.4, -8.5, 0.5], [3.4, -7.2, 0.5], [3.6, -13.0, 0.5], [4.2, -8.7, 0.5], [4.4, 11.5, 0.5], [4.4, 12.8, 0.5], [4.7, 5.8, 0.5], [4.7, 0.7, 0.5], [4.8, 3.7, 0.5], [4.8, 10.4, 0.5], [5.7, -9.2, 0.5], [5.8, -12.4, 0.5], [6.2, -5.9, 0.5], [6.3, 7.7, 0.5], [6.3, -2.9, 0.5], [6.7, -12.6, 0.5], [6.8, -1.2, 0.5], [6.8, 13.6, 0.5], [7.0, 6.2, 0.5], [7.0, -7.2, 0.5], [7.1, 7.4, 0.5], [7.3, 3.3, 0.5], [7.6, 8.4, 0.5], [7.8, 1.8, 0.5], [9.1, 12.1, 0.5], [9.3, -13.2, 0.5], [9.4, -4.7, 0.5], [9.7, -0.6, 0.5], [10.2, -4.9, 0.5], [10.6, -1.6, 0.5], [10.9, -3.9, 0.5], [11.2, 4.2, 0.5], [11.3, -7.2, 0.5], [11.3, -9.0, 0.5], [11.4, 2.4, 0.5], [11.7, -10.5, 0.5], [12.1, -9.7, 0.5], [12.3, 1.6, 0.5], [13.0, -5.7, 0.5], [13.7, 13.2, 0.5], [14.0, -13.6, 0.5]]\n",
            "[[-14.2, -7.9, 0.5], [-14.1, -7.1, 0.5], [-13.6, -2.7, 0.5], [-13.3, -14.0, 0.5], [-13.2, 7.2, 0.5], [-13.1, -12.4, 0.5], [-11.2, -10.5, 0.5], [-11.0, -13.1, 0.5], [-11.0, 13.7, 0.5], [-10.5, -8.6, 0.5], [-10.4, 9.2, 0.5], [-9.0, -12.9, 0.5], [-8.7, -3.4, 0.5], [-8.5, -0.7, 0.5], [-8.0, 1.8, 0.5], [-7.9, -0.9, 0.5], [-7.8, 10.5, 0.5], [-7.7, -13.8, 0.5], [-7.7, -6.5, 0.5], [-7.7, 5.6, 0.5], [-7.6, -0.6, 0.5], [-7.3, 3.6, 0.5], [-7.0, -10.1, 0.5], [-6.8, 11.0, 0.5], [-6.8, -5.8, 0.5], [-6.6, 2.9, 0.5], [-6.1, 13.4, 0.5], [-5.7, -1.5, 0.5], [-5.7, -13.7, 0.5], [-5.6, -0.3, 0.5], [-5.4, 0.3, 0.5], [-5.3, 12.9, 0.5], [-5.3, -3.1, 0.5], [-5.0, 6.8, 0.5], [-3.6, -11.7, 0.5], [-3.4, -6.5, 0.5], [-3.3, 5.0, 0.5], [-3.0, 11.9, 0.5], [-3.0, -14.2, 0.5], [-2.3, 3.8, 0.5], [-2.2, 7.3, 0.5], [-2.2, 3.1, 0.5], [-1.9, 5.3, 0.5], [-1.9, -0.9, 0.5], [-1.7, 7.3, 0.5], [-1.0, -7.1, 0.5], [-0.8, -8.5, 0.5], [-0.7, 1.0, 0.5], [-0.2, -7.9, 0.5], [-0.0, 7.0, 0.5], [0.6, 6.2, 0.5], [0.7, 4.7, 0.5], [1.0, 6.0, 0.5], [1.4, 2.7, 0.5], [1.7, 10.7, 0.5], [2.1, -0.0, 0.5], [2.4, 1.7, 0.5], [2.5, -12.1, 0.5], [2.5, 2.7, 0.5], [3.4, -8.5, 0.5], [3.4, -7.2, 0.5], [3.6, -13.0, 0.5], [4.2, -8.7, 0.5], [4.4, 11.5, 0.5], [4.4, 12.8, 0.5], [4.7, 5.8, 0.5], [4.7, 0.7, 0.5], [4.8, 3.7, 0.5], [4.8, 10.4, 0.5], [5.7, -9.2, 0.5], [5.8, -12.4, 0.5], [6.2, -5.9, 0.5], [6.3, 7.7, 0.5], [6.3, -2.9, 0.5], [6.7, -12.6, 0.5], [6.8, -1.2, 0.5], [6.8, 13.6, 0.5], [7.0, 6.2, 0.5], [7.0, -7.2, 0.5], [7.1, 7.4, 0.5], [7.3, 3.3, 0.5], [7.6, 8.4, 0.5], [7.8, 1.8, 0.5], [9.1, 12.1, 0.5], [9.3, -13.2, 0.5], [9.4, -4.7, 0.5], [9.7, -0.6, 0.5], [10.2, -4.9, 0.5], [10.6, -1.6, 0.5], [10.9, -3.9, 0.5], [11.2, 4.2, 0.5], [11.3, -7.2, 0.5], [11.3, -9.0, 0.5], [11.4, 2.4, 0.5], [11.7, -10.5, 0.5], [12.1, -9.7, 0.5], [12.3, 1.6, 0.5], [13.0, -5.7, 0.5], [13.7, 13.2, 0.5], [14.0, -13.6, 0.5]]\n"
          ],
          "name": "stdout"
        }
      ]
    },
    {
      "cell_type": "code",
      "metadata": {
        "colab": {
          "base_uri": "https://localhost:8080/",
          "height": 306
        },
        "id": "9kimTllx0rUw",
        "outputId": "5ea79c6d-7bce-4afe-dac9-0321626f06c7"
      },
      "source": [
        "def draw_disks(disks):\r\n",
        "  fig = plt.figure()\r\n",
        "  ax = fig.add_subplot(111) \r\n",
        "  for disk in disks:\r\n",
        "    crcle = matplotlib.patches.Circle((disk[0], disk[1]), disk[2], alpha = 0.3, edgecolor=\"black\")\r\n",
        "    ax.add_patch(crcle)\r\n",
        "\r\n",
        "  plt.xlim(-15, 15)\r\n",
        "  plt.ylim(-15, 15)\r\n",
        "  plt.grid()\r\n",
        "  plt.show()\r\n",
        "  print(disks)\r\n",
        "\r\n",
        "draw_disks(disks)"
      ],
      "execution_count": 65,
      "outputs": [
        {
          "output_type": "display_data",
          "data": {
            "image/png": "[encoded data removed]",
            "text/plain": [
              "<Figure size 432x288 with 1 Axes>"
            ]
          },
          "metadata": {
            "tags": [],
            "needs_background": "light"
          }
        },
        {
          "output_type": "stream",
          "text": [
            "[[-14.5, 12.2, 0.5], [-14.4, -11.8, 0.5], [-14.0, 4.5, 0.5], [-13.9, -13.8, 0.5], [-13.9, -5.9, 0.5], [-13.5, -14.2, 0.5], [-12.8, -9.2, 0.5], [-12.8, -14.3, 0.5], [-12.4, -8.4, 0.5], [-12.3, -8.5, 0.5], [-12.1, -12.8, 0.5], [-11.9, 12.3, 0.5], [-11.4, -13.1, 0.5], [-11.2, -10.3, 0.5], [-10.7, 9.2, 0.5], [-10.6, -11.8, 0.5], [-10.6, 3.1, 0.5], [-10.6, 8.5, 0.5], [-10.4, 10.0, 0.5], [-10.3, 1.1, 0.5], [-9.8, -7.4, 0.5], [-9.6, -3.6, 0.5], [-9.3, -7.3, 0.5], [-8.7, -3.3, 0.5], [-8.6, -2.1, 0.5], [-8.5, -7.4, 0.5], [-8.1, 1.6, 0.5], [-7.6, 12.7, 0.5], [-6.7, 10.6, 0.5], [-6.6, -9.8, 0.5], [-6.6, 0.8, 0.5], [-6.1, -8.4, 0.5], [-5.8, 5.2, 0.5], [-5.8, -5.4, 0.5], [-5.4, -3.0, 0.5], [-5.4, 3.4, 0.5], [-4.7, 0.3, 0.5], [-3.9, -10.4, 0.5], [-3.8, 4.4, 0.5], [-3.6, -13.4, 0.5], [-2.7, 4.6, 0.5], [-2.6, 5.1, 0.5], [-2.1, -7.2, 0.5], [-1.4, 2.3, 0.5], [-0.9, 12.4, 0.5], [-0.7, -11.1, 0.5], [-0.4, 7.1, 0.5], [-0.3, 9.8, 0.5], [-0.1, 3.5, 0.5], [-0.1, -4.2, 0.5], [0.1, 6.4, 0.5], [0.4, -8.4, 0.5], [0.5, -12.2, 0.5], [0.7, -14.3, 0.5], [0.8, -7.2, 0.5], [0.9, 8.9, 0.5], [1.8, 1.9, 0.5], [2.3, -6.0, 0.5], [2.7, 2.9, 0.5], [2.8, 4.5, 0.5], [3.2, -9.0, 0.5], [3.2, -7.0, 0.5], [3.3, -10.4, 0.5], [3.5, 6.4, 0.5], [3.6, 0.4, 0.5], [3.7, 8.1, 0.5], [3.7, 8.9, 0.5], [3.7, 12.4, 0.5], [3.9, -7.1, 0.5], [4.1, 3.3, 0.5], [4.5, 8.3, 0.5], [4.6, -12.4, 0.5], [4.8, 11.4, 0.5], [5.0, -5.1, 0.5], [5.1, -2.7, 0.5], [5.3, 5.5, 0.5], [6.2, 10.1, 0.5], [7.7, -4.3, 0.5], [8.0, -14.0, 0.5], [8.2, -1.3, 0.5], [8.3, 5.1, 0.5], [8.4, 0.8, 0.5], [9.1, 8.9, 0.5], [9.3, -0.7, 0.5], [9.4, 3.1, 0.5], [10.0, 11.4, 0.5], [10.3, -12.3, 0.5], [10.7, 2.2, 0.5], [10.8, 10.8, 0.5], [11.3, 8.2, 0.5], [12.2, 6.2, 0.5], [12.9, 8.0, 0.5], [13.0, 4.4, 0.5], [13.1, 14.1, 0.5], [13.1, 12.3, 0.5], [13.2, -9.4, 0.5], [13.4, -6.2, 0.5], [13.8, -9.5, 0.5], [14.3, -12.2, 0.5], [14.3, -3.9, 0.5]]\n"
          ],
          "name": "stdout"
        }
      ]
    },
    {
      "cell_type": "markdown",
      "metadata": {
        "id": "m4wBTZa5ilNH"
      },
      "source": [
        "# Zadanie 2\r\n",
        "Napisz funkcję, która będzie wykrywać kolizję między dwoma dyskami.\r\n",
        "Funkcja ta powinna zwracać wartość True, jeżeli dyski „zachodzą” na\r\n",
        "siebie"
      ]
    },
    {
      "cell_type": "code",
      "metadata": {
        "colab": {
          "base_uri": "https://localhost:8080/"
        },
        "id": "NXBcvDgnikyl",
        "outputId": "4e455257-bffe-4219-81f0-d1751190798e"
      },
      "source": [
        "def colision(first_disk, second_disk):\r\n",
        "  r_sum = first_disk[2] + second_disk[2]\r\n",
        "  distance = math.sqrt((first_disk[0] - second_disk[0]) ** 2 + (first_disk[1] - second_disk[1]) ** 2)\r\n",
        "\r\n",
        "  return distance < r_sum\r\n",
        "\r\n",
        "colision(disks[28], disks[30])\r\n"
      ],
      "execution_count": 36,
      "outputs": [
        {
          "output_type": "execute_result",
          "data": {
            "text/plain": [
              "False"
            ]
          },
          "metadata": {
            "tags": []
          },
          "execution_count": 36
        }
      ]
    },
    {
      "cell_type": "markdown",
      "metadata": {
        "id": "-JZmWCzgNBfy"
      },
      "source": [
        "# Zadanie 3\r\n",
        " Napisz funkcję, która przesunie dysk na płaszczyźnie o wektor podany\r\n",
        "jako drugi argument."
      ]
    },
    {
      "cell_type": "code",
      "metadata": {
        "id": "pRP8eqHCNIiN"
      },
      "source": [
        "def move(disk, vector):\r\n",
        "  \r\n",
        "  x, y = vector\r\n",
        "  disk[0] += x\r\n",
        "  disk[1] += y\r\n",
        "\r\n",
        "  return disk\r\n",
        "\r\n",
        "\r\n"
      ],
      "execution_count": 37,
      "outputs": []
    },
    {
      "cell_type": "markdown",
      "metadata": {
        "id": "3ihd6iIBqYqs"
      },
      "source": [
        "Szukam odpowiedniego wektora"
      ]
    },
    {
      "cell_type": "code",
      "metadata": {
        "colab": {
          "base_uri": "https://localhost:8080/"
        },
        "id": "onMY0sbtqfBE",
        "outputId": "3141036c-bff6-4b79-8a24-2a1225bae10e"
      },
      "source": [
        "def vektor_y(disk_y):\r\n",
        "  \r\n",
        "  if disk_y <= 14.0:\r\n",
        "    disk_y += 0.5\r\n",
        "  else:\r\n",
        "    disk_y = -14.5\r\n",
        "  return disk_y\r\n",
        "\r\n",
        "vektor_y(-13.8)\r\n"
      ],
      "execution_count": 70,
      "outputs": [
        {
          "output_type": "execute_result",
          "data": {
            "text/plain": [
              "-13.3"
            ]
          },
          "metadata": {
            "tags": []
          },
          "execution_count": 70
        }
      ]
    },
    {
      "cell_type": "code",
      "metadata": {
        "colab": {
          "base_uri": "https://localhost:8080/"
        },
        "id": "X4Jqbm_0ff_z",
        "outputId": "ebef599a-e5da-428e-b3db-42ffb9be2699"
      },
      "source": [
        "def vector_x(disk_x):\r\n",
        "  if disk_x <=14.0:\r\n",
        "    disk_x += 0.5\r\n",
        "  else:\r\n",
        "    disk_x = -14.5\r\n",
        "  return disk_x\r\n",
        "vector_x(disks[0][0])\r\n"
      ],
      "execution_count": 43,
      "outputs": [
        {
          "output_type": "execute_result",
          "data": {
            "text/plain": [
              "-13.9"
            ]
          },
          "metadata": {
            "tags": []
          },
          "execution_count": 43
        }
      ]
    },
    {
      "cell_type": "markdown",
      "metadata": {
        "id": "b4Rz9An_zyuP"
      },
      "source": [
        "# Zadanie 5\r\n",
        " Napisz program, który na płaszczyźnie −15 ¬ x, y ¬ 15:\r\n",
        "• rozmieści 100 dysków o promieniu r = 0.5 w losowych położeniach,\r\n",
        "• wykryje kolizje.\r\n",
        "• rozsunie dyski tak, żeby co najwyżej stykały się ze sobą.\r\n",
        "Program powinien zakończyć działanie po usunięciu ostatniej z kolizji."
      ]
    },
    {
      "cell_type": "code",
      "metadata": {
        "id": "8ta41sftz7Kk",
        "colab": {
          "base_uri": "https://localhost:8080/"
        },
        "outputId": "a4bfc16f-270b-4d4f-dbc1-409037046245"
      },
      "source": [
        "def seperate_disks(disks):\r\n",
        "  i = 0\r\n",
        "  n = 0\r\n",
        "  for first_disk in disks:\r\n",
        "    n+=1\r\n",
        "    for second_disk in disks[n:]:\r\n",
        "      if first_disk != second_disk:\r\n",
        "        if abs(first_disk[0] - second_disk[0]) >= first_disk[2]+second_disk[2]:\r\n",
        "          break\r\n",
        "        \r\n",
        "        else:\r\n",
        "          while colision(first_disk, second_disk):\r\n",
        "            #first_disk = move(first_disk, (vektor_x(first_disk[0],0)))\r\n",
        "            first_disk = move(first_disk, (0,vektor_y(first_disk[1])))\r\n",
        "              \r\n",
        "          \r\n",
        "  return disks\r\n",
        "  \r\n",
        "seperate_disks(disks)"
      ],
      "execution_count": 74,
      "outputs": [
        {
          "output_type": "execute_result",
          "data": {
            "text/plain": [
              "[[-14.2, -15.3, 0.5],\n",
              " [-14.1, -7.1, 0.5],\n",
              " [-13.6, -2.7, 0.5],\n",
              " [-13.3, -14.0, 0.5],\n",
              " [-13.2, 7.2, 0.5],\n",
              " [-13.1, -12.4, 0.5],\n",
              " [-11.2, -10.5, 0.5],\n",
              " [-11.0, -13.1, 0.5],\n",
              " [-11.0, 13.7, 0.5],\n",
              " [-10.5, -8.6, 0.5],\n",
              " [-10.4, 9.2, 0.5],\n",
              " [-9.0, -12.9, 0.5],\n",
              " [-8.7, -3.4, 0.5],\n",
              " [-8.5, -2.0999999999999996, 0.5],\n",
              " [-8.0, 1.8, 0.5],\n",
              " [-7.9, -2.1, 0.5],\n",
              " [-7.8, 10.5, 0.5],\n",
              " [-7.7, -13.8, 0.5],\n",
              " [-7.7, -6.5, 0.5],\n",
              " [-7.7, 5.6, 0.5],\n",
              " [-7.6, -0.6, 0.5],\n",
              " [-7.3, 7.699999999999999, 0.5],\n",
              " [-7.0, -10.1, 0.5],\n",
              " [-6.8, 11.0, 0.5],\n",
              " [-6.8, -5.8, 0.5],\n",
              " [-6.6, 2.9, 0.5],\n",
              " [-6.1, 27.3, 0.5],\n",
              " [-5.7, -1.5, 0.5],\n",
              " [-5.7, -13.7, 0.5],\n",
              " [-5.6, 2.7, 0.5],\n",
              " [-5.4, 0.3, 0.5],\n",
              " [-5.3, 12.9, 0.5],\n",
              " [-5.3, -3.1, 0.5],\n",
              " [-5.0, 6.8, 0.5],\n",
              " [-3.6, -11.7, 0.5],\n",
              " [-3.4, -6.5, 0.5],\n",
              " [-3.3, 5.0, 0.5],\n",
              " [-3.0, 11.9, 0.5],\n",
              " [-3.0, -14.2, 0.5],\n",
              " [-2.3, 16.7, 0.5],\n",
              " [-2.2, 15.1, 0.5],\n",
              " [-2.2, 3.1, 0.5],\n",
              " [-1.9, 5.3, 0.5],\n",
              " [-1.9, -0.9, 0.5],\n",
              " [-1.7, 7.3, 0.5],\n",
              " [-1.0, -7.1, 0.5],\n",
              " [-0.8, -16.5, 0.5],\n",
              " [-0.7, 1.0, 0.5],\n",
              " [-0.2, -7.9, 0.5],\n",
              " [0.0, 14.5, 0.5],\n",
              " [0.6, 12.9, 0.5],\n",
              " [0.7, 4.7, 0.5],\n",
              " [1.0, 6.0, 0.5],\n",
              " [1.4, 2.7, 0.5],\n",
              " [1.7, 10.7, 0.5],\n",
              " [2.1, -0.0, 0.5],\n",
              " [2.4, 1.7, 0.5],\n",
              " [2.5, -12.1, 0.5],\n",
              " [2.5, 2.7, 0.5],\n",
              " [3.4, -16.5, 0.5],\n",
              " [3.4, -7.2, 0.5],\n",
              " [3.6, -13.0, 0.5],\n",
              " [4.2, -8.7, 0.5],\n",
              " [4.4, 11.5, 0.5],\n",
              " [4.4, 12.8, 0.5],\n",
              " [4.7, 5.8, 0.5],\n",
              " [4.7, 0.7, 0.5],\n",
              " [4.8, 3.7, 0.5],\n",
              " [4.8, 10.4, 0.5],\n",
              " [5.7, -9.2, 0.5],\n",
              " [5.8, -24.3, 0.5],\n",
              " [6.2, -5.9, 0.5],\n",
              " [6.3, 15.899999999999999, 0.5],\n",
              " [6.3, -2.9, 0.5],\n",
              " [6.7, -12.6, 0.5],\n",
              " [6.8, -1.2, 0.5],\n",
              " [6.8, 13.6, 0.5],\n",
              " [7.0, 6.2, 0.5],\n",
              " [7.0, -7.2, 0.5],\n",
              " [7.1, 7.4, 0.5],\n",
              " [7.3, 3.3, 0.5],\n",
              " [7.6, 8.4, 0.5],\n",
              " [7.8, 1.8, 0.5],\n",
              " [9.1, 12.1, 0.5],\n",
              " [9.3, -13.2, 0.5],\n",
              " [9.4, -8.9, 0.5],\n",
              " [9.7, -0.6, 0.5],\n",
              " [10.2, -4.9, 0.5],\n",
              " [10.6, -1.6, 0.5],\n",
              " [10.9, -3.9, 0.5],\n",
              " [11.2, 4.2, 0.5],\n",
              " [11.3, -7.2, 0.5],\n",
              " [11.3, -9.0, 0.5],\n",
              " [11.4, 2.4, 0.5],\n",
              " [11.7, -20.5, 0.5],\n",
              " [12.1, -9.7, 0.5],\n",
              " [12.3, 1.6, 0.5],\n",
              " [13.0, -5.7, 0.5],\n",
              " [13.7, 13.2, 0.5],\n",
              " [14.0, -13.6, 0.5]]"
            ]
          },
          "metadata": {
            "tags": []
          },
          "execution_count": 74
        }
      ]
    },
    {
      "cell_type": "code",
      "metadata": {
        "colab": {
          "base_uri": "https://localhost:8080/",
          "height": 269
        },
        "id": "B5xSHkU9zLZ9",
        "outputId": "eb24953c-31c6-4b84-e858-5c2b3dc060b8"
      },
      "source": [
        "def draw_new_disks(disks):\r\n",
        "  fig = plt.figure()\r\n",
        "  ax = fig.add_subplot(111) \r\n",
        "  for disk in disks:\r\n",
        "    crcle = matplotlib.patches.Circle((disk[0], disk[1]), disk[2], alpha = 0.3, edgecolor=\"black\")\r\n",
        "    ax.add_patch(crcle)\r\n",
        "  #for disk_copy in disks_copy:\r\n",
        "    #crcle_copy = matplotlib.patches.Circle((disk_copy[0], disk_copy[1]), disk_copy[2], alpha = 0.3, color = \"yellow\", edgecolor=\"black\")\r\n",
        "    #ax.add_patch(crcle_copy)\r\n",
        "\r\n",
        "  plt.xlim(-15, 15)\r\n",
        "  plt.ylim(-15, 15)\r\n",
        "  plt.grid()\r\n",
        "  plt.show()\r\n",
        "  \r\n",
        "\r\n",
        "draw_new_disks(seperate_disks(disks))"
      ],
      "execution_count": 75,
      "outputs": [
        {
          "output_type": "display_data",
          "data": {
            "image/png": "[encoded data removed]",
            "text/plain": [
              "<Figure size 432x288 with 1 Axes>"
            ]
          },
          "metadata": {
            "tags": [],
            "needs_background": "light"
          }
        }
      ]
    },
    {
      "cell_type": "markdown",
      "metadata": {
        "id": "nBtGQXyw15Ti"
      },
      "source": [
        "wartosc wektora, porównywanie ograniczonej lb dysków, wybieranie które dyski porównujemy, animacja"
      ]
    },
    {
      "cell_type": "code",
      "metadata": {
        "colab": {
          "base_uri": "https://localhost:8080/"
        },
        "id": "mYu56z72zV1W",
        "outputId": "ac6fc3cc-2939-45a8-85e5-a55cf7eb9ed5"
      },
      "source": [
        "def old_and_new():\r\n",
        "  print(\"początkowe ustawienie: \", disks_copy)\r\n",
        "  print(\"końcowe ustawienie: \", disks)\r\n",
        "old_and_new()"
      ],
      "execution_count": null,
      "outputs": [
        {
          "output_type": "stream",
          "text": [
            "początkowe ustawienie:  [[-14.5, 5.8, 0.5], [-13.8, -10.7, 0.5], [-13.7, 6.3, 0.5], [-13.5, 7.7, 0.5], [-13.2, -14.1, 0.5], [-12.5, -2.3, 0.5], [-12.5, -4.1, 0.5], [-11.7, 9.6, 0.5], [-11.7, 8.3, 0.5], [-11.5, 11.4, 0.5], [-11.4, 9.1, 0.5], [-11.3, 15.1, 0.5], [-11.3, -9.4, 0.5], [-11.1, -11.1, 0.5], [-11.0, -1.6, 0.5], [-11.0, 13.7, 0.5], [-11.0, 11.3, 0.5], [-10.6, -1.5, 0.5], [-10.5, -4.8, 0.5], [-10.3, 6.2, 0.5], [-10.2, 2.7, 0.5], [-10.1, -4.2, 0.5], [-10.0, -13.6, 0.5], [-9.8, 0.3, 0.5], [-9.8, 14.0, 0.5], [-9.5, -1.2, 0.5], [-9.3, -1.7, 0.5], [-9.3, -10.3, 0.5], [-9.1, 9.9, 0.5], [-9.0, 9.3, 0.5], [-8.8, -5.2, 0.5], [-8.4, -2.8, 0.5], [-8.4, -13.1, 0.5], [-8.4, -10.0, 0.5], [-8.3, 14.7, 0.5], [-8.3, -14.0, 0.5], [-8.1, 9.9, 0.5], [-8.1, -3.4, 0.5], [-7.9, -4.9, 0.5], [-7.6, -4.9, 0.5], [-7.2, 1.9, 0.5], [-7.1, -12.1, 0.5], [-7.0, -9.1, 0.5], [-7.0, 14.4, 0.5], [-6.9, 10.6, 0.5], [-6.8, 1.4, 0.5], [-6.1, 10.0, 0.5], [-6.0, -9.1, 0.5], [-5.9, -0.9, 0.5], [-5.8, -5.6, 0.5], [-5.6, -14.5, 0.5], [-5.5, 2.0, 0.5], [-5.3, -2.9, 0.5], [-5.2, 1.4, 0.5], [-5.2, 4.4, 0.5], [-4.9, -0.1, 0.5], [-4.2, -3.8, 0.5], [-3.8, 9.4, 0.5], [-3.7, -1.6, 0.5], [-3.6, -11.6, 0.5], [-3.5, -14.9, 0.5], [-2.8, -10.5, 0.5], [-2.7, -3.9, 0.5], [-2.2, -4.5, 0.5], [-2.2, -9.1, 0.5], [-2.1, 14.6, 0.5], [-1.9, 0.2, 0.5], [-1.9, 7.1, 0.5], [-1.8, -14.1, 0.5], [-1.7, -5.8, 0.5], [-1.6, 1.7, 0.5], [-1.4, 14.3, 0.5], [-1.4, -3.0, 0.5], [-1.2, 9.4, 0.5], [-0.6, -0.9, 0.5], [-0.2, 11.5, 0.5], [-0.1, 11.7, 0.5], [0.3, -1.6, 0.5], [0.4, 11.2, 0.5], [0.4, 5.9, 0.5], [0.5, 10.9, 0.5], [0.5, -2.1, 0.5], [0.6, -0.1, 0.5], [0.9, 6.5, 0.5], [1.3, 10.1, 0.5], [1.4, -0.2, 0.5], [1.5, -2.2, 0.5], [2.0, 11.6, 0.5], [2.3, -9.7, 0.5], [2.4, -14.7, 0.5], [2.4, -10.2, 0.5], [2.7, -2.1, 0.5], [2.7, -3.6, 0.5], [3.0, -5.4, 0.5], [3.1, 9.9, 0.5], [3.5, -3.7, 0.5], [3.6, -10.6, 0.5], [3.7, -9.1, 0.5], [4.0, 13.7, 0.5], [4.2, 5.3, 0.5], [4.2, 4.9, 0.5], [4.3, 10.5, 0.5], [4.7, -1.9, 0.5], [4.8, 14.2, 0.5], [4.8, 5.7, 0.5], [4.9, 9.5, 0.5], [5.4, 4.2, 0.5], [5.8, 0.7, 0.5], [5.8, -14.5, 0.5], [6.0, 0.4, 0.5], [6.8, -3.1, 0.5], [7.1, 3.5, 0.5], [7.3, 12.5, 0.5], [7.4, -5.4, 0.5], [7.8, -5.9, 0.5], [7.8, -12.7, 0.5], [7.9, -7.6, 0.5], [8.0, -1.7, 0.5], [8.1, 4.8, 0.5], [8.1, -3.4, 0.5], [8.3, -4.7, 0.5], [8.5, -14.2, 0.5], [8.5, 13.3, 0.5], [8.8, 12.2, 0.5], [8.8, 14.1, 0.5], [8.8, 14.8, 0.5], [9.1, 9.8, 0.5], [9.4, -10.6, 0.5], [9.9, -10.2, 0.5], [10.4, 9.7, 0.5], [10.8, 15.1, 0.5], [11.5, -5.7, 0.5], [11.8, -14.7, 0.5], [11.9, -2.5, 0.5], [12.0, -4.5, 0.5], [12.4, 9.1, 0.5], [12.6, -7.5, 0.5], [12.9, 1.5, 0.5], [12.9, -8.0, 0.5], [12.9, -5.9, 0.5], [13.3, -9.3, 0.5], [13.3, 8.1, 0.5], [13.3, -13.4, 0.5], [13.3, -3.3, 0.5], [13.9, 2.0, 0.5], [14.0, 5.5, 0.5], [14.2, 9.8, 0.5], [14.3, 4.2, 0.5], [14.9, -2.6, 0.5], [15.0, -10.4, 0.5]]\n",
            "końcowe ustawienie:  [[-14.5, 12.1, 0.5], [-13.8, -10.7, 0.5], [-13.7, 6.3, 0.5], [-13.5, 7.7, 0.5], [-13.2, -14.1, 0.5], [-12.5, -2.3, 0.5], [-12.5, -4.1, 0.5], [-11.7, 19.7, 0.5], [-11.7, 17.1, 0.5], [-11.5, 23.3, 0.5], [-11.4, 9.1, 0.5], [-11.3, 15.1, 0.5], [-11.3, -18.3, 0.5], [-11.1, -11.1, 0.5], [-11.0, -2.7, 0.5], [-11.0, 13.7, 0.5], [-11.0, 11.3, 0.5], [-10.6, -1.5, 0.5], [-10.5, -9.1, 0.5], [-10.3, 6.2, 0.5], [-10.2, 2.7, 0.5], [-10.1, -4.2, 0.5], [-10.0, -13.6, 0.5], [-9.8, 0.3, 0.5], [-9.8, 14.0, 0.5], [-9.5, -3.3, 0.5], [-9.3, -1.7, 0.5], [-9.3, -20.1, 0.5], [-9.1, 20.3, 0.5], [-9.0, 9.3, 0.5], [-8.8, -19.3, 0.5], [-8.4, -37.3, 0.5], [-8.4, -25.7, 0.5], [-8.4, -10.0, 0.5], [-8.3, 14.7, 0.5], [-8.3, -14.0, 0.5], [-8.1, 9.9, 0.5], [-8.1, -3.4, 0.5], [-7.9, -18.1, 0.5], [-7.6, -4.9, 0.5], [-7.2, 4.3, 0.5], [-7.1, -12.1, 0.5], [-7.0, -9.1, 0.5], [-7.0, 14.4, 0.5], [-6.9, 10.6, 0.5], [-6.8, 1.4, 0.5], [-6.1, 20.5, 0.5], [-6.0, -9.1, 0.5], [-5.9, -0.9, 0.5], [-5.8, -5.6, 0.5], [-5.6, -14.5, 0.5], [-5.5, 9.5, 0.5], [-5.3, -2.9, 0.5], [-5.2, 1.4, 0.5], [-5.2, 4.4, 0.5], [-4.9, -0.1, 0.5], [-4.2, -3.8, 0.5], [-3.8, 9.4, 0.5], [-3.7, -1.6, 0.5], [-3.6, -11.6, 0.5], [-3.5, -14.9, 0.5], [-2.8, -10.5, 0.5], [-2.7, -7.3, 0.5], [-2.2, -4.5, 0.5], [-2.2, -9.1, 0.5], [-2.1, 2.6999999999999886, 0.5], [-1.9, 0.2, 0.5], [-1.9, 7.1, 0.5], [-1.8, -14.1, 0.5], [-1.7, -5.8, 0.5], [-1.6, 1.7, 0.5], [-1.4, 14.3, 0.5], [-1.4, -3.0, 0.5], [-1.2, 9.4, 0.5], [-0.6, -0.9, 0.5], [-0.2, 8.5, 0.5], [-0.1, 23.9, 0.5], [0.3, -4.9, 0.5], [0.4, 22.9, 0.5], [0.4, 12.3, 0.5], [0.5, 10.9, 0.5], [0.5, -2.1, 0.5], [0.6, 1.1, 0.5], [0.9, 6.5, 0.5], [1.3, 10.1, 0.5], [1.4, -0.2, 0.5], [1.5, -2.2, 0.5], [2.0, 11.6, 0.5], [2.3, -18.9, 0.5], [2.4, -14.7, 0.5], [2.4, -10.2, 0.5], [2.7, -2.1, 0.5], [2.7, -6.7, 0.5], [3.0, -5.4, 0.5], [3.1, 9.9, 0.5], [3.5, -3.7, 0.5], [3.6, -10.6, 0.5], [3.7, -9.1, 0.5], [4.0, 27.9, 0.5], [4.2, 22.7, 0.5], [4.2, 21.1, 0.5], [4.3, 10.5, 0.5], [4.7, -1.9, 0.5], [4.8, 14.2, 0.5], [4.8, 5.7, 0.5], [4.9, 9.5, 0.5], [5.4, 4.2, 0.5], [5.8, 1.9, 0.5], [5.8, -14.5, 0.5], [6.0, 0.4, 0.5], [6.8, -3.1, 0.5], [7.1, 3.5, 0.5], [7.3, 12.5, 0.5], [7.4, -10.3, 0.5], [7.8, -5.9, 0.5], [7.8, -12.7, 0.5], [7.9, -7.6, 0.5], [8.0, -1.7, 0.5], [8.1, 4.8, 0.5], [8.1, -3.4, 0.5], [8.3, -4.7, 0.5], [8.5, -14.2, 0.5], [8.5, 27.1, 0.5], [8.8, 12.2, 0.5], [8.8, 28.7, 0.5], [8.8, 14.8, 0.5], [9.1, 9.8, 0.5], [9.4, -20.7, 0.5], [9.9, -10.2, 0.5], [10.4, 9.7, 0.5], [10.8, 15.1, 0.5], [11.5, -5.7, 0.5], [11.8, -28.9, 0.5], [11.9, -2.5, 0.5], [12.0, -4.5, 0.5], [12.4, 9.1, 0.5], [12.6, -14.5, 0.5], [12.9, 1.5, 0.5], [12.9, -8.0, 0.5], [12.9, -5.9, 0.5], [13.3, -9.3, 0.5], [13.3, 8.1, 0.5], [13.3, -13.4, 0.5], [13.3, -3.3, 0.5], [13.9, 2.0, 0.5], [14.0, 5.5, 0.5], [14.2, 9.8, 0.5], [14.3, 4.2, 0.5], [14.9, -2.6, 0.5], [15.0, -10.4, 0.5]]\n"
          ],
          "name": "stdout"
        }
      ]
    }
  ]
}