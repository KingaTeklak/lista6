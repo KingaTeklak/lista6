{
  "nbformat": 4,
  "nbformat_minor": 0,
  "metadata": {
    "colab": {
      "name": "Kopia notatnika Kopia notatnika lista6.ipynb",
      "provenance": [],
      "collapsed_sections": [],
      "include_colab_link": true
    },
    "kernelspec": {
      "name": "python3",
      "display_name": "Python 3"
    }
  },
  "cells": [
    {
      "cell_type": "markdown",
      "metadata": {
        "id": "view-in-github",
        "colab_type": "text"
      },
      "source": [
        "<a href=\"https://colab.research.google.com/github/KingaTeklak/lista6/blob/main/lista6_poprawiona_z_opisem.ipynb\" target=\"_parent\"><img src=\"https://colab.research.google.com/assets/colab-badge.svg\" alt=\"Open In Colab\"/></a>"
      ]
    },
    {
      "cell_type": "markdown",
      "metadata": {
        "id": "A1JXIEVSnx-E"
      },
      "source": [
        ""
      ]
    },
    {
      "cell_type": "code",
      "metadata": {
        "id": "OJKDp5ZLi6L6"
      },
      "source": [
        "import math\r\n",
        "import matplotlib\r\n",
        "import random\r\n",
        "import matplotlib.pyplot as plt\r\n",
        "import matplotlib.patches as patches\r\n",
        "import copy\r\n"
      ],
      "execution_count": 1,
      "outputs": []
    },
    {
      "cell_type": "markdown",
      "metadata": {
        "id": "nbmN3a67hCow"
      },
      "source": [
        "# Zadanie 1\r\n",
        "Wymyśl sposób reprezentowania takich dysków przy pomocy jednego z\r\n",
        "wbudowanych typów danych w Pythonie"
      ]
    },
    {
      "cell_type": "code",
      "metadata": {
        "id": "AIrUbJq5Gt2F"
      },
      "source": [
        "N = 100\r\n",
        "\"\"\" N = int: ilość generowanych dysków\"\"\""
      ],
      "execution_count": 98,
      "outputs": []
    },
    {
      "cell_type": "markdown",
      "metadata": {
        "id": "-LrmM4lgMO4_"
      },
      "source": [
        "co z dyskami, których środek jest w \"polu\" ale reszta nie, czy trzeba to precyzować dla dowolnego promienia, czy tylko dla r=0,5, czy wcale?"
      ]
    },
    {
      "cell_type": "code",
      "metadata": {
        "id": "LK7zPe-BhHIw"
      },
      "source": [
        "def generate_disks(n):\r\n",
        "  \"\"\"funkcja generate_disks przyjmuje za argument int jakos ilość dysków do wygenerowania.\r\n",
        "  Generuje n losowych dysków, ograniczonych przez płaszczyznę -15<=x,y<=15 o promieniu 0,5\"\"\"\r\n",
        "  disks = []\r\n",
        "\r\n",
        "  for i in range(n):\r\n",
        "    x = round(random.uniform(-14.5, 14.6), 1)\r\n",
        "    y = round(random.uniform(-14.5, 14.6), 1)\r\n",
        "    r = round(random.uniform(0.5, 0.51), 1)\r\n",
        "\r\n",
        "    disks.append([x, y, r])\r\n",
        "\r\n",
        "  return disks\r\n"
      ],
      "execution_count": 122,
      "outputs": []
    },
    {
      "cell_type": "markdown",
      "metadata": {
        "id": "rTDJMidysCWT"
      },
      "source": [
        "Wygenerowanie dyski:"
      ]
    },
    {
      "cell_type": "code",
      "metadata": {
        "colab": {
          "base_uri": "https://localhost:8080/"
        },
        "id": "Yjd7BL8msNu5",
        "outputId": "96cf2b3a-cce6-43ed-92bc-360b6cc2f23a"
      },
      "source": [
        "\"\"\"\r\n",
        "disks = wygenerowane dyski w ilości N. W postaci listy listy\r\n",
        "disks.sort = posortowane dyski po współrzędnej X. W postaci listy list.\r\n",
        "disk_copy = kopia dysków z ustawienia początkowego \"\"\"\r\n",
        "\r\n",
        "disks = generate_disks(N)\r\n",
        "disks.sort(key=lambda n: n[0])\r\n",
        "disks_copy = copy.deepcopy(disks)\r\n",
        "\r\n",
        "print(disks)\r\n",
        "print(disks_copy)"
      ],
      "execution_count": 114,
      "outputs": [
        {
          "output_type": "stream",
          "text": [
            "[[-14.5, 8.6, 0.5], [-14.2, 8.6, 0.5], [-14.1, 4.3, 0.5], [-12.6, 9.8, 0.5], [-12.4, -0.6, 0.5], [-11.8, 11.2, 0.5], [-11.5, 3.0, 0.5], [-11.2, -3.7, 0.5], [-10.9, -10.6, 0.5], [-10.9, 5.1, 0.5], [-10.6, -9.6, 0.5], [-10.5, -5.7, 0.5], [-10.3, -1.5, 0.5], [-10.1, 6.8, 0.5], [-9.7, -12.8, 0.5], [-9.6, 2.7, 0.5], [-9.2, 1.0, 0.5], [-9.0, 5.2, 0.5], [-8.6, 8.8, 0.5], [-8.6, 7.5, 0.5], [-8.4, 14.3, 0.5], [-8.2, 2.9, 0.5], [-8.2, 10.3, 0.5], [-7.7, 4.9, 0.5], [-7.6, -11.5, 0.5], [-7.0, -5.7, 0.5], [-6.9, -3.5, 0.5], [-6.1, -13.8, 0.5], [-6.1, 10.7, 0.5], [-5.9, -9.6, 0.5], [-5.8, -1.1, 0.5], [-5.1, -10.4, 0.5], [-4.9, -10.0, 0.5], [-3.9, 1.4, 0.5], [-3.8, -9.7, 0.5], [-2.6, 3.1, 0.5], [-2.4, 13.6, 0.5], [-2.0, -6.7, 0.5], [-0.6, -10.9, 0.5], [-0.4, 2.6, 0.5], [-0.3, 4.1, 0.5], [0.9, 0.8, 0.5], [1.0, -7.6, 0.5], [1.1, -8.7, 0.5], [1.4, -4.4, 0.5], [1.4, -9.3, 0.5], [2.0, 3.9, 0.5], [2.1, 5.0, 0.5], [3.1, 4.3, 0.5], [3.1, -7.5, 0.5], [3.3, -14.1, 0.5], [3.4, -6.7, 0.5], [3.6, 5.6, 0.5], [3.9, -13.8, 0.5], [4.3, 10.1, 0.5], [4.5, 6.6, 0.5], [4.6, -6.4, 0.5], [4.8, -13.0, 0.5], [5.1, -2.4, 0.5], [5.2, -6.2, 0.5], [5.6, 1.5, 0.5], [5.8, -10.9, 0.5], [5.8, 5.4, 0.5], [5.9, -11.9, 0.5], [6.1, -3.2, 0.5], [6.2, 9.4, 0.5], [6.6, 3.0, 0.5], [6.7, 3.1, 0.5], [7.7, 14.6, 0.5], [7.8, 6.2, 0.5], [8.3, 14.1, 0.5], [8.6, -14.4, 0.5], [8.7, -12.9, 0.5], [8.8, 6.5, 0.5], [9.0, 8.6, 0.5], [9.0, 13.0, 0.5], [9.8, -8.0, 0.5], [9.8, -10.7, 0.5], [9.9, -2.6, 0.5], [10.0, 12.4, 0.5], [10.1, -1.7, 0.5], [10.5, 8.0, 0.5], [10.5, -9.4, 0.5], [10.7, -3.9, 0.5], [11.0, -11.5, 0.5], [11.5, -0.8, 0.5], [11.6, 6.4, 0.5], [11.7, -3.6, 0.5], [12.2, 2.2, 0.5], [12.3, 11.6, 0.5], [12.3, 7.9, 0.5], [12.4, 10.0, 0.5], [12.4, -5.7, 0.5], [12.7, -2.5, 0.5], [12.7, -3.4, 0.5], [12.8, -2.4, 0.5], [13.1, -12.4, 0.5], [13.3, 3.7, 0.5], [13.4, -2.5, 0.5], [13.6, 7.6, 0.5]]\n",
            "[[-14.5, 8.6, 0.5], [-14.2, 8.6, 0.5], [-14.1, 4.3, 0.5], [-12.6, 9.8, 0.5], [-12.4, -0.6, 0.5], [-11.8, 11.2, 0.5], [-11.5, 3.0, 0.5], [-11.2, -3.7, 0.5], [-10.9, -10.6, 0.5], [-10.9, 5.1, 0.5], [-10.6, -9.6, 0.5], [-10.5, -5.7, 0.5], [-10.3, -1.5, 0.5], [-10.1, 6.8, 0.5], [-9.7, -12.8, 0.5], [-9.6, 2.7, 0.5], [-9.2, 1.0, 0.5], [-9.0, 5.2, 0.5], [-8.6, 8.8, 0.5], [-8.6, 7.5, 0.5], [-8.4, 14.3, 0.5], [-8.2, 2.9, 0.5], [-8.2, 10.3, 0.5], [-7.7, 4.9, 0.5], [-7.6, -11.5, 0.5], [-7.0, -5.7, 0.5], [-6.9, -3.5, 0.5], [-6.1, -13.8, 0.5], [-6.1, 10.7, 0.5], [-5.9, -9.6, 0.5], [-5.8, -1.1, 0.5], [-5.1, -10.4, 0.5], [-4.9, -10.0, 0.5], [-3.9, 1.4, 0.5], [-3.8, -9.7, 0.5], [-2.6, 3.1, 0.5], [-2.4, 13.6, 0.5], [-2.0, -6.7, 0.5], [-0.6, -10.9, 0.5], [-0.4, 2.6, 0.5], [-0.3, 4.1, 0.5], [0.9, 0.8, 0.5], [1.0, -7.6, 0.5], [1.1, -8.7, 0.5], [1.4, -4.4, 0.5], [1.4, -9.3, 0.5], [2.0, 3.9, 0.5], [2.1, 5.0, 0.5], [3.1, 4.3, 0.5], [3.1, -7.5, 0.5], [3.3, -14.1, 0.5], [3.4, -6.7, 0.5], [3.6, 5.6, 0.5], [3.9, -13.8, 0.5], [4.3, 10.1, 0.5], [4.5, 6.6, 0.5], [4.6, -6.4, 0.5], [4.8, -13.0, 0.5], [5.1, -2.4, 0.5], [5.2, -6.2, 0.5], [5.6, 1.5, 0.5], [5.8, -10.9, 0.5], [5.8, 5.4, 0.5], [5.9, -11.9, 0.5], [6.1, -3.2, 0.5], [6.2, 9.4, 0.5], [6.6, 3.0, 0.5], [6.7, 3.1, 0.5], [7.7, 14.6, 0.5], [7.8, 6.2, 0.5], [8.3, 14.1, 0.5], [8.6, -14.4, 0.5], [8.7, -12.9, 0.5], [8.8, 6.5, 0.5], [9.0, 8.6, 0.5], [9.0, 13.0, 0.5], [9.8, -8.0, 0.5], [9.8, -10.7, 0.5], [9.9, -2.6, 0.5], [10.0, 12.4, 0.5], [10.1, -1.7, 0.5], [10.5, 8.0, 0.5], [10.5, -9.4, 0.5], [10.7, -3.9, 0.5], [11.0, -11.5, 0.5], [11.5, -0.8, 0.5], [11.6, 6.4, 0.5], [11.7, -3.6, 0.5], [12.2, 2.2, 0.5], [12.3, 11.6, 0.5], [12.3, 7.9, 0.5], [12.4, 10.0, 0.5], [12.4, -5.7, 0.5], [12.7, -2.5, 0.5], [12.7, -3.4, 0.5], [12.8, -2.4, 0.5], [13.1, -12.4, 0.5], [13.3, 3.7, 0.5], [13.4, -2.5, 0.5], [13.6, 7.6, 0.5]]\n"
          ],
          "name": "stdout"
        }
      ]
    },
    {
      "cell_type": "code",
      "metadata": {
        "colab": {
          "base_uri": "https://localhost:8080/",
          "height": 306
        },
        "id": "9kimTllx0rUw",
        "outputId": "e745dd2e-e3ba-4a1c-f07a-00522577b8eb"
      },
      "source": [
        "def draw_disks(disks):\r\n",
        "  \"\"\" Funckja draw_disks to wykres obrazujący początkowe ustawienie dysków, mocniejszym kolorem zaznaczone są miejsca kolizji.\r\n",
        "  Jako argument przyjmuje listę list będącą listą wszytskich dysków.\"\"\"\r\n",
        "  fig = plt.figure()\r\n",
        "  ax = fig.add_subplot(111) \r\n",
        "  for disk in disks:\r\n",
        "    crcle = matplotlib.patches.Circle((disk[0], disk[1]), disk[2], alpha = 0.3, edgecolor=\"black\")\r\n",
        "    ax.add_patch(crcle)\r\n",
        "\r\n",
        "  plt.xlim(-15, 15)\r\n",
        "  plt.ylim(-15, 15)\r\n",
        "  plt.grid()\r\n",
        "  plt.show()\r\n",
        "  print(disks)\r\n",
        "\r\n",
        "draw_disks(disks)"
      ],
      "execution_count": 115,
      "outputs": [
        {
          "output_type": "display_data",
          "data": {
            "image/png": "[encoded data removed]",
            "text/plain": [
              "<Figure size 432x288 with 1 Axes>"
            ]
          },
          "metadata": {
            "tags": [],
            "needs_background": "light"
          }
        },
        {
          "output_type": "stream",
          "text": [
            "[[-14.5, 8.6, 0.5], [-14.2, 8.6, 0.5], [-14.1, 4.3, 0.5], [-12.6, 9.8, 0.5], [-12.4, -0.6, 0.5], [-11.8, 11.2, 0.5], [-11.5, 3.0, 0.5], [-11.2, -3.7, 0.5], [-10.9, -10.6, 0.5], [-10.9, 5.1, 0.5], [-10.6, -9.6, 0.5], [-10.5, -5.7, 0.5], [-10.3, -1.5, 0.5], [-10.1, 6.8, 0.5], [-9.7, -12.8, 0.5], [-9.6, 2.7, 0.5], [-9.2, 1.0, 0.5], [-9.0, 5.2, 0.5], [-8.6, 8.8, 0.5], [-8.6, 7.5, 0.5], [-8.4, 14.3, 0.5], [-8.2, 2.9, 0.5], [-8.2, 10.3, 0.5], [-7.7, 4.9, 0.5], [-7.6, -11.5, 0.5], [-7.0, -5.7, 0.5], [-6.9, -3.5, 0.5], [-6.1, -13.8, 0.5], [-6.1, 10.7, 0.5], [-5.9, -9.6, 0.5], [-5.8, -1.1, 0.5], [-5.1, -10.4, 0.5], [-4.9, -10.0, 0.5], [-3.9, 1.4, 0.5], [-3.8, -9.7, 0.5], [-2.6, 3.1, 0.5], [-2.4, 13.6, 0.5], [-2.0, -6.7, 0.5], [-0.6, -10.9, 0.5], [-0.4, 2.6, 0.5], [-0.3, 4.1, 0.5], [0.9, 0.8, 0.5], [1.0, -7.6, 0.5], [1.1, -8.7, 0.5], [1.4, -4.4, 0.5], [1.4, -9.3, 0.5], [2.0, 3.9, 0.5], [2.1, 5.0, 0.5], [3.1, 4.3, 0.5], [3.1, -7.5, 0.5], [3.3, -14.1, 0.5], [3.4, -6.7, 0.5], [3.6, 5.6, 0.5], [3.9, -13.8, 0.5], [4.3, 10.1, 0.5], [4.5, 6.6, 0.5], [4.6, -6.4, 0.5], [4.8, -13.0, 0.5], [5.1, -2.4, 0.5], [5.2, -6.2, 0.5], [5.6, 1.5, 0.5], [5.8, -10.9, 0.5], [5.8, 5.4, 0.5], [5.9, -11.9, 0.5], [6.1, -3.2, 0.5], [6.2, 9.4, 0.5], [6.6, 3.0, 0.5], [6.7, 3.1, 0.5], [7.7, 14.6, 0.5], [7.8, 6.2, 0.5], [8.3, 14.1, 0.5], [8.6, -14.4, 0.5], [8.7, -12.9, 0.5], [8.8, 6.5, 0.5], [9.0, 8.6, 0.5], [9.0, 13.0, 0.5], [9.8, -8.0, 0.5], [9.8, -10.7, 0.5], [9.9, -2.6, 0.5], [10.0, 12.4, 0.5], [10.1, -1.7, 0.5], [10.5, 8.0, 0.5], [10.5, -9.4, 0.5], [10.7, -3.9, 0.5], [11.0, -11.5, 0.5], [11.5, -0.8, 0.5], [11.6, 6.4, 0.5], [11.7, -3.6, 0.5], [12.2, 2.2, 0.5], [12.3, 11.6, 0.5], [12.3, 7.9, 0.5], [12.4, 10.0, 0.5], [12.4, -5.7, 0.5], [12.7, -2.5, 0.5], [12.7, -3.4, 0.5], [12.8, -2.4, 0.5], [13.1, -12.4, 0.5], [13.3, 3.7, 0.5], [13.4, -2.5, 0.5], [13.6, 7.6, 0.5]]\n"
          ],
          "name": "stdout"
        }
      ]
    },
    {
      "cell_type": "markdown",
      "metadata": {
        "id": "m4wBTZa5ilNH"
      },
      "source": [
        "# Zadanie 2\r\n",
        "Napisz funkcję, która będzie wykrywać kolizję między dwoma dyskami.\r\n",
        "Funkcja ta powinna zwracać wartość True, jeżeli dyski „zachodzą” na\r\n",
        "siebie"
      ]
    },
    {
      "cell_type": "code",
      "metadata": {
        "colab": {
          "base_uri": "https://localhost:8080/"
        },
        "id": "NXBcvDgnikyl",
        "outputId": "2adde35c-3214-4428-fe8b-c8f635bc9710"
      },
      "source": [
        "def colision(first_disk, second_disk):\r\n",
        "  \"\"\" sprawdzenie kolizji dwóch wybranych dysków.\r\n",
        "  Jeśli odległośc między ich punktami środkowymi jest mniejsza od 2 promieni wtedy dyski na siebie nachodzą.\r\n",
        "  Odlęgłość obliczona ze wzoru sqrt((x1-x1)**2 +(y1-y2)**2)\r\n",
        "  Funkcja zwraca prawdę, jeśli wykryje kolizję, fałsz, jeśli nie\r\n",
        "  Funkcja przyjmuje 2 argumenty: dwa sprawdzane dyski w postaci 2 list 3 elementowych ( wspołrzędna x,y oraz promień)\"\"\"\r\n",
        "  r_sum = first_disk[2] + second_disk[2]\r\n",
        "  distance = math.sqrt((first_disk[0] - second_disk[0]) ** 2 + (first_disk[1] - second_disk[1]) ** 2)\r\n",
        "\r\n",
        "  return distance < r_sum\r\n",
        "\r\n",
        "colision(disks[28], disks[30])\r\n"
      ],
      "execution_count": 112,
      "outputs": [
        {
          "output_type": "execute_result",
          "data": {
            "text/plain": [
              "False"
            ]
          },
          "metadata": {
            "tags": []
          },
          "execution_count": 112
        }
      ]
    },
    {
      "cell_type": "markdown",
      "metadata": {
        "id": "-JZmWCzgNBfy"
      },
      "source": [
        "# Zadanie 3\r\n",
        " Napisz funkcję, która przesunie dysk na płaszczyźnie o wektor podany\r\n",
        "jako drugi argument."
      ]
    },
    {
      "cell_type": "code",
      "metadata": {
        "colab": {
          "base_uri": "https://localhost:8080/"
        },
        "id": "X4Jqbm_0ff_z",
        "outputId": "2ffd97ac-24ee-4450-9508-d7db90f74dc9"
      },
      "source": [
        "def vector_x(disk_x):\r\n",
        "   \"\"\" funkcja vector_x zmienia współrzęną x o wartość promienia, jeśli jednak współrzędna x jest równa maksymalnej możliwej wartości wtedy wartość x staje się możliwie najmniejsza.\r\n",
        "  Funkcja przyjmuje jako argument przesuwany dysk\"\"\"\r\n",
        "  if disk_x[0] <=14.0:\r\n",
        "    disk_x[0] += 0.5\r\n",
        "  else:\r\n",
        "    disk_x[0] = -14.5\r\n",
        "  return disk_x\r\n",
        "vector_x(disks[0])\r\n"
      ],
      "execution_count": 74,
      "outputs": [
        {
          "output_type": "execute_result",
          "data": {
            "text/plain": [
              "[-11.9, -5.800000000000001, 0.5]"
            ]
          },
          "metadata": {
            "tags": []
          },
          "execution_count": 74
        }
      ]
    },
    {
      "cell_type": "code",
      "metadata": {
        "colab": {
          "base_uri": "https://localhost:8080/"
        },
        "id": "onMY0sbtqfBE",
        "outputId": "913c975d-3aeb-46c6-b79d-f5603bb324bd"
      },
      "source": [
        "def vector_y(disk_y):\r\n",
        "  \"\"\" funkcja vector_y zmienia współrzęną y o wartość promienia, jeśli jednak współrzędna y jest równa maksymalnej możliwej wartości wtedy wartość y staje się możliwie najmniejsza.\r\n",
        "  Funkcja przyjmuje jako argument przesuwany dysk\"\"\"\r\n",
        "  \r\n",
        "  if disk_y[1] <= 14.0:\r\n",
        "    disk_y[1] += 0.5\r\n",
        "  else:\r\n",
        "    disk_y[1] = -14.5\r\n",
        "  return disk_y\r\n",
        "\r\n",
        "vector_y(disks[0])\r\n"
      ],
      "execution_count": 73,
      "outputs": [
        {
          "output_type": "execute_result",
          "data": {
            "text/plain": [
              "[-12.4, -5.800000000000001, 0.5]"
            ]
          },
          "metadata": {
            "tags": []
          },
          "execution_count": 73
        }
      ]
    },
    {
      "cell_type": "code",
      "metadata": {
        "id": "pRP8eqHCNIiN",
        "colab": {
          "base_uri": "https://localhost:8080/"
        },
        "outputId": "b3d518f4-4d0e-45e2-d7d6-2d01eb19a58e"
      },
      "source": [
        "def move_y(disk, vector):\r\n",
        "  \"\"\" funkcja move_y przesuwa dysk po współrzędnej y. Argumantami są: dysk, który ma przesunąć oraz vektor o jaki ma przesunać\"\"\"\r\n",
        "  y = vector[1]\r\n",
        "  \r\n",
        "  disk[1] = y\r\n",
        "\r\n",
        "  return disk\r\n",
        "\r\n",
        "move_y(disks[0],vector_y(disks[0]))\r\n"
      ],
      "execution_count": 75,
      "outputs": [
        {
          "output_type": "execute_result",
          "data": {
            "text/plain": [
              "[-11.9, -5.300000000000001, 0.5]"
            ]
          },
          "metadata": {
            "tags": []
          },
          "execution_count": 75
        }
      ]
    },
    {
      "cell_type": "code",
      "metadata": {
        "id": "CzJx3QmKVzsZ"
      },
      "source": [
        "def move_x(disk, vector):\r\n",
        "  \"\"\" funkcja move_x przesuwa dysk po współrzędnej x.Argumantami są: dysk, który ma przesunąć oraz vektor o jaki ma przesunać\"\"\"\r\n",
        "  x = vector[0]\r\n",
        "  \r\n",
        "  disk[0] = x\r\n",
        "\r\n",
        "  return disk\r\n",
        "\r\n",
        "move_x(disks[0],vector_x(disks[0]))"
      ],
      "execution_count": null,
      "outputs": []
    },
    {
      "cell_type": "markdown",
      "metadata": {
        "id": "3ihd6iIBqYqs"
      },
      "source": [
        "Szukam odpowiedniego wektora"
      ]
    },
    {
      "cell_type": "markdown",
      "metadata": {
        "id": "b4Rz9An_zyuP"
      },
      "source": [
        "# Zadanie 5\r\n",
        " Napisz program, który na płaszczyźnie −15 ¬ x, y ¬ 15:\r\n",
        "• rozmieści 100 dysków o promieniu r = 0.5 w losowych położeniach,\r\n",
        "• wykryje kolizje.\r\n",
        "• rozsunie dyski tak, żeby co najwyżej stykały się ze sobą.\r\n",
        "Program powinien zakończyć działanie po usunięciu ostatniej z kolizji."
      ]
    },
    {
      "cell_type": "code",
      "metadata": {
        "id": "8ta41sftz7Kk"
      },
      "source": [
        "def seperate_disks(disks):\r\n",
        "  \"\"\" funckja separate_disks zamienia ułożenie kolizyjne dysków na niekolizyjne. Przyjmuje jeden argument: listę dysków do sprawdzenia.\r\n",
        "  Iteruje przez listę dysków szukajac kolizji, jeśli ją znadzie przesuwa dysk po współrzędnej y o mozliwie małą odległość.\r\n",
        "  Jesli ilość takich przesunięć jest wystarczająco duża by dysk znalazł się ustawiwniu początkowym wtedy przerywa przesuwanie po y i przesuwa o odległość 1 promienia po x.\r\n",
        "  I powtarz cała procedurę po y. Dyski są posortowane po zmiennej x, więc sprawdzane dyski to tylko te, których odległość od punktów środkowych jest mniejsza od sumy ich promieni.\r\n",
        "  Funkcja zwraca listę bezkolizyjnych dysków\"\"\"\r\n",
        "  \r\n",
        "  num_of_changes = 0\r\n",
        "  n = 0\r\n",
        "  \r\n",
        "  for first_disk in disks:\r\n",
        "    n += 1\r\n",
        "    for second_disk in disks[n:]:\r\n",
        "      if first_disk != second_disk:\r\n",
        "        if abs(first_disk[0] - second_disk[0]) >= first_disk[2]+second_disk[2]:\r\n",
        "          break\r\n",
        "        \r\n",
        "        else:\r\n",
        "          while colision(first_disk, second_disk):\r\n",
        "            \r\n",
        "            if num_of_changes > 28:\r\n",
        "              first_disk = move_x(first_disk, (vector_x(first_disk)))\r\n",
        "              num_of_changes = 0\r\n",
        "            else:\r\n",
        "              \r\n",
        "              first_disk = move_y(first_disk, (vector_y(first_disk)))\r\n",
        "              num_of_changes += 1\r\n",
        "            num_of_changes = 0\r\n",
        "            \r\n",
        "              \r\n",
        "          \r\n",
        "  return disks\r\n",
        "  \r\n",
        "seperate_disks(disks)"
      ],
      "execution_count": null,
      "outputs": []
    },
    {
      "cell_type": "code",
      "metadata": {
        "colab": {
          "base_uri": "https://localhost:8080/",
          "height": 269
        },
        "id": "B5xSHkU9zLZ9",
        "outputId": "f56a48a3-ca21-4e9b-9d95-5a961f61b4c5"
      },
      "source": [
        "def draw_new_disks(disks):\r\n",
        "  \"\"\" Funkcja draw_new_disks przyjmuje za argument listę dysków. \r\n",
        "  Iteruje przez listę list, gdzie bierze pierwszą i drugą wartość i ustala z nim odpowiednio współrzędną x i y plotowanych dysków. Wartość 3 odpowiada promieniowi.\r\n",
        "  Dyski przedstawione są w postaci kół. Funkcja zwraca wykres z naniesionymi dyskami.\"\"\" \r\n",
        "  fig = plt.figure()\r\n",
        "  ax = fig.add_subplot(111) \r\n",
        "  for disk in disks:\r\n",
        "    crcle = matplotlib.patches.Circle((disk[0], disk[1]), disk[2], alpha = 0.3, edgecolor=\"black\")\r\n",
        "    ax.add_patch(crcle)\r\n",
        "  #for disk_copy in disks_copy:\r\n",
        "    #crcle_copy = matplotlib.patches.Circle((disk_copy[0], disk_copy[1]), disk_copy[2], alpha = 0.3, color = \"yellow\", edgecolor=\"black\")\r\n",
        "    #ax.add_patch(crcle_copy)\r\n",
        "\r\n",
        "  plt.xlim(-15, 15)\r\n",
        "  plt.ylim(-15, 15)\r\n",
        "  plt.grid()\r\n",
        "  plt.show()\r\n",
        "  \r\n",
        "\r\n",
        "draw_new_disks(seperate_disks(disks))"
      ],
      "execution_count": 121,
      "outputs": [
        {
          "output_type": "display_data",
          "data": {
            "image/png": "[encoded data removed]",
            "text/plain": [
              "<Figure size 432x288 with 1 Axes>"
            ]
          },
          "metadata": {
            "tags": [],
            "needs_background": "light"
          }
        }
      ]
    },
    {
      "cell_type": "markdown",
      "metadata": {
        "id": "nBtGQXyw15Ti"
      },
      "source": [
        "wartosc wektora, porównywanie ograniczonej lb dysków, wybieranie które dyski porównujemy, animacja"
      ]
    },
    {
      "cell_type": "code",
      "metadata": {
        "colab": {
          "base_uri": "https://localhost:8080/"
        },
        "id": "mYu56z72zV1W",
        "outputId": "c464f42c-26d4-4727-fe68-348a79fba2b5"
      },
      "source": [
        "def old_and_new():\r\n",
        "  \"\"\" Funkcja old_and_new printuje poczatkowe i końcowe ustawnienie dysków.\"\"\"\r\n",
        "  print(\"początkowe ustawienie: \", disks_copy)\r\n",
        "  print(\"końcowe ustawienie: \", disks)\r\n",
        "old_and_new()"
      ],
      "execution_count": 111,
      "outputs": [
        {
          "output_type": "stream",
          "text": [
            "początkowe ustawienie:  [[-13.8, -14.5, 0.5], [-13.7, 6.9, 0.5], [-13.4, -12.9, 0.5], [-13.1, 3.0, 0.5], [-13.0, -0.7, 0.5], [-13.0, -8.1, 0.5], [-12.8, 7.5, 0.5], [-12.7, -0.1, 0.5], [-12.1, -4.2, 0.5], [-12.0, 2.4, 0.5], [-10.4, -2.8, 0.5], [-9.5, 0.8, 0.5], [-9.5, -3.3, 0.5], [-9.2, -1.1, 0.5], [-9.0, 7.3, 0.5], [-8.6, 6.6, 0.5], [-8.3, -12.2, 0.5], [-7.7, 13.3, 0.5], [-7.7, -2.4, 0.5], [-7.4, 8.1, 0.5], [-7.2, 11.8, 0.5], [-7.1, -0.4, 0.5], [-7.0, -6.9, 0.5], [-6.9, 9.7, 0.5], [-6.7, 10.4, 0.5], [-6.4, -0.4, 0.5], [-5.2, 9.5, 0.5], [-4.7, 5.0, 0.5], [-4.6, -3.0, 0.5], [-3.9, 0.4, 0.5], [-3.8, -13.5, 0.5], [-3.7, 11.8, 0.5], [-3.7, -11.4, 0.5], [-3.7, 7.9, 0.5], [-3.4, -2.5, 0.5], [-2.9, -2.9, 0.5], [-2.6, 8.2, 0.5], [-2.5, -13.2, 0.5], [-2.2, -7.1, 0.5], [-1.8, -3.6, 0.5], [-1.6, 7.8, 0.5], [-1.0, -8.5, 0.5], [-1.0, -14.2, 0.5], [-0.7, 9.4, 0.5], [-0.5, -5.5, 0.5], [-0.5, 11.8, 0.5], [-0.1, -13.7, 0.5], [-0.0, 3.2, 0.5], [0.7, 2.8, 0.5], [0.9, 4.4, 0.5], [1.8, -0.4, 0.5], [1.9, 2.1, 0.5], [2.3, -1.1, 0.5], [2.7, 9.2, 0.5], [2.7, -12.8, 0.5], [2.9, -4.6, 0.5], [2.9, 10.3, 0.5], [3.0, -1.1, 0.5], [3.4, -7.3, 0.5], [3.5, 13.9, 0.5], [3.7, -14.5, 0.5], [4.0, -2.0, 0.5], [4.2, 6.3, 0.5], [4.6, -7.2, 0.5], [4.7, 2.6, 0.5], [5.1, 1.9, 0.5], [5.3, 4.2, 0.5], [5.3, -0.3, 0.5], [5.4, 12.2, 0.5], [5.4, 7.4, 0.5], [5.5, -6.7, 0.5], [5.8, -12.7, 0.5], [6.0, -6.2, 0.5], [6.0, 12.1, 0.5], [6.0, 4.8, 0.5], [6.3, -5.4, 0.5], [6.3, -5.7, 0.5], [6.7, 0.6, 0.5], [6.8, -7.1, 0.5], [6.9, 7.2, 0.5], [7.6, 13.9, 0.5], [7.9, 4.3, 0.5], [8.4, -14.4, 0.5], [8.9, 8.4, 0.5], [9.1, -3.7, 0.5], [9.2, 8.5, 0.5], [9.3, 13.1, 0.5], [9.5, 4.9, 0.5], [10.5, 10.6, 0.5], [10.5, -11.2, 0.5], [10.5, -5.3, 0.5], [10.8, 13.9, 0.5], [11.0, -3.0, 0.5], [11.3, 12.2, 0.5], [13.7, -14.2, 0.5], [13.9, -8.5, 0.5], [14.0, -8.8, 0.5], [14.2, 0.5, 0.5], [14.5, -9.0, 0.5], [14.6, 12.2, 0.5]]\n",
            "końcowe ustawienie:  [[-13.8, -14.5, 0.5], [-13.7, 6.9, 0.5], [-13.4, -12.9, 0.5], [-13.1, 3.0, 0.5], [-13.0, 1.3, 0.5], [-13.0, -8.1, 0.5], [-12.8, 7.5, 0.5], [-12.7, -0.1, 0.5], [-12.1, -4.2, 0.5], [-12.0, 2.4, 0.5], [-10.4, -2.8, 0.5], [-9.5, 0.8, 0.5], [-9.5, -3.3, 0.5], [-9.2, -1.1, 0.5], [-9.0, 7.8, 0.5], [-8.6, 6.6, 0.5], [-8.3, -12.2, 0.5], [-7.7, 13.3, 0.5], [-7.7, -2.4, 0.5], [-7.4, 8.1, 0.5], [-7.2, 11.8, 0.5], [-7.1, 0.6, 0.5], [-7.0, -6.9, 0.5], [-6.9, 11.7, 0.5], [-6.7, 10.4, 0.5], [-6.4, -0.4, 0.5], [-5.2, 9.5, 0.5], [-4.7, 5.0, 0.5], [-4.6, -3.0, 0.5], [-3.9, 0.4, 0.5], [-3.8, -13.5, 0.5], [-3.7, 11.8, 0.5], [-3.7, -11.4, 0.5], [-3.7, 7.9, 0.5], [-3.4, -2.0, 0.5], [-2.9, -2.9, 0.5], [-2.6, 8.2, 0.5], [-2.5, -13.2, 0.5], [-2.2, -7.1, 0.5], [-1.8, -3.6, 0.5], [-1.6, 7.8, 0.5], [-1.0, -8.5, 0.5], [-1.0, -14.2, 0.5], [-0.7, 9.4, 0.5], [-0.5, -5.5, 0.5], [-0.5, 11.8, 0.5], [-0.1, -13.7, 0.5], [-0.0, 3.7, 0.5], [0.7, 2.8, 0.5], [0.9, 4.4, 0.5], [1.8, 0.09999999999999998, 0.5], [1.9, 2.1, 0.5], [2.3, -0.10000000000000009, 0.5], [2.7, 9.2, 0.5], [2.7, -12.8, 0.5], [2.9, -4.6, 0.5], [2.9, 10.3, 0.5], [3.0, -1.1, 0.5], [3.4, -7.3, 0.5], [3.5, 13.9, 0.5], [3.7, -14.5, 0.5], [4.0, -2.0, 0.5], [4.2, 6.3, 0.5], [4.6, -7.2, 0.5], [4.7, 3.1, 0.5], [5.1, 1.9, 0.5], [5.3, 5.7, 0.5], [5.3, -0.3, 0.5], [5.4, 13.2, 0.5], [5.4, 7.4, 0.5], [5.5, -4.7, 0.5], [5.8, -12.7, 0.5], [6.0, -4.2, 0.5], [6.0, 12.1, 0.5], [6.0, 4.8, 0.5], [6.3, -4.4, 0.5], [6.3, -5.7, 0.5], [6.7, 0.6, 0.5], [6.8, -7.1, 0.5], [6.9, 7.2, 0.5], [7.6, 13.9, 0.5], [7.9, 4.3, 0.5], [8.4, -14.4, 0.5], [8.9, 9.9, 0.5], [9.1, -3.7, 0.5], [9.2, 8.5, 0.5], [9.3, 13.1, 0.5], [9.5, 4.9, 0.5], [10.5, 10.6, 0.5], [10.5, -11.2, 0.5], [10.5, -5.3, 0.5], [10.8, 13.9, 0.5], [11.0, -3.0, 0.5], [11.3, 12.2, 0.5], [13.7, -14.2, 0.5], [13.9, -7.5, 0.5], [14.0, -7.800000000000001, 0.5], [14.2, 0.5, 0.5], [14.5, -9.0, 0.5], [14.6, 12.2, 0.5]]\n"
          ],
          "name": "stdout"
        }
      ]
    }
  ]
}